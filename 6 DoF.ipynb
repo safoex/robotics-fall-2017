{
 "cells": [
  {
   "cell_type": "code",
   "execution_count": 2,
   "metadata": {
    "collapsed": true
   },
   "outputs": [],
   "source": [
    "import sympy as sp"
   ]
  },
  {
   "cell_type": "code",
   "execution_count": 4,
   "metadata": {
    "collapsed": true
   },
   "outputs": [],
   "source": [
    "def T(a, α, d, θ):\n",
    "    return sp.Matrix([[sp.cos(θ),-sp.sin(θ),0,a],\n",
    "                      [sp.sin(θ)*sp.cos(α),sp.cos(θ)*sp.cos(α),-sp.sin(α),-sp.sin(α)*d],\n",
    "                      [sp.sin(θ)*sp.sin(α),sp.cos(θ)*sp.sin(α),sp.cos(α), sp.cos(α)*d],\n",
    "                      [0,0,0,1]])\n"
   ]
  },
  {
   "cell_type": "code",
   "execution_count": 18,
   "metadata": {
    "collapsed": true
   },
   "outputs": [],
   "source": [
    "N_deg = 6\n",
    "θ = sp.symbols('θ0:%d'%N_deg)\n",
    "α = sp.symbols('α0:%d'%N_deg)\n",
    "a = sp.symbols('a0:%d'%N_deg)\n",
    "d = sp.symbols('d0:%d'%N_deg)"
   ]
  },
  {
   "cell_type": "code",
   "execution_count": 19,
   "metadata": {},
   "outputs": [
    {
     "data": {
      "text/plain": [
       "Matrix([\n",
       "[        cos(θ0),        -sin(θ0),        0,          a0],\n",
       "[sin(θ0)*cos(α0), cos(α0)*cos(θ0), -sin(α0), -d0*sin(α0)],\n",
       "[sin(α0)*sin(θ0), sin(α0)*cos(θ0),  cos(α0),  d0*cos(α0)],\n",
       "[              0,               0,        0,           1]])"
      ]
     },
     "execution_count": 19,
     "metadata": {},
     "output_type": "execute_result"
    }
   ],
   "source": [
    "T(a[0], α[0], d[0], θ[0])"
   ]
  },
  {
   "cell_type": "code",
   "execution_count": 28,
   "metadata": {},
   "outputs": [],
   "source": [
    "AA = sp.trigsimp(T(a[0], α[0], d[0], θ[0])*T(a[1], α[1], d[1], θ[1]))"
   ]
  },
  {
   "cell_type": "code",
   "execution_count": null,
   "metadata": {
    "collapsed": true
   },
   "outputs": [],
   "source": []
  }
 ],
 "metadata": {
  "kernelspec": {
   "display_name": "Python 3",
   "language": "python",
   "name": "python3"
  },
  "language_info": {
   "codemirror_mode": {
    "name": "ipython",
    "version": 3
   },
   "file_extension": ".py",
   "mimetype": "text/x-python",
   "name": "python",
   "nbconvert_exporter": "python",
   "pygments_lexer": "ipython3",
   "version": "3.6.3"
  }
 },
 "nbformat": 4,
 "nbformat_minor": 2
}
