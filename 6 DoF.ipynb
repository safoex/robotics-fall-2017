{
 "cells": [
  {
   "cell_type": "code",
   "execution_count": 1,
   "metadata": {},
   "outputs": [],
   "source": [
    "import sympy as sp\n",
    "import numpy as np\n",
    "sp.init_printing(use_unicode=True)"
   ]
  },
  {
   "cell_type": "code",
   "execution_count": 2,
   "metadata": {},
   "outputs": [],
   "source": [
    "def T(a, α, d, θ):\n",
    "    return sp.Matrix([[sp.cos(θ),-sp.sin(θ),0,a],\n",
    "                      [sp.sin(θ)*sp.cos(α),sp.cos(θ)*sp.cos(α),-sp.sin(α),-sp.sin(α)*d],\n",
    "                      [sp.sin(θ)*sp.sin(α),sp.cos(θ)*sp.sin(α),sp.cos(α), sp.cos(α)*d],\n",
    "                      [0,0,0,1]])\n",
    "def R(a, α, d, θ):\n",
    "    return T(a, α, d, θ)[:3,:3]\n",
    "def P(a, α, d, θ):\n",
    "    return T(a, α, d, θ)[:3,-1]"
   ]
  },
  {
   "cell_type": "code",
   "execution_count": 3,
   "metadata": {},
   "outputs": [],
   "source": [
    "N_deg = 6\n",
    "θ = sp.symbols('θ1:%d'%(N_deg+1))\n",
    "α = sp.symbols('α1:%d'%(N_deg+1))\n",
    "a = sp.symbols('a1:%d'%(N_deg+1))\n",
    "d = sp.symbols('d1:%d'%(N_deg+1))"
   ]
  },
  {
   "cell_type": "code",
   "execution_count": 4,
   "metadata": {},
   "outputs": [],
   "source": [
    "Rm = []\n",
    "for i in range(3):\n",
    "    Rm.append(R(0, 0, 0, θ[i]))\n",
    "    \n",
    "Rm[2] = Rm[2].subs(θ[2],0)"
   ]
  },
  {
   "cell_type": "code",
   "execution_count": 5,
   "metadata": {},
   "outputs": [
    {
     "data": {
      "image/png": "[encoded data removed]",
      "text/latex": [
       "$$\\left[\\begin{matrix}\\cos{\\left (θ1 \\right )} & \\sin{\\left (θ1 \\right )} & 0\\\\- \\sin{\\left (θ1 \\right )} & \\cos{\\left (θ1 \\right )} & 0\\\\0 & 0 & 1\\end{matrix}\\right]$$"
      ],
      "text/plain": [
       "⎡cos(θ1)   sin(θ1)  0⎤\n",
       "⎢                    ⎥\n",
       "⎢-sin(θ1)  cos(θ1)  0⎥\n",
       "⎢                    ⎥\n",
       "⎣   0         0     1⎦"
      ]
     },
     "execution_count": 5,
     "metadata": {},
     "output_type": "execute_result"
    }
   ],
   "source": [
    "iRm = [sp.trigsimp(r.inv()) for r in Rm]\n",
    "iRm[0]"
   ]
  },
  {
   "cell_type": "code",
   "execution_count": 6,
   "metadata": {},
   "outputs": [],
   "source": [
    "def zerov(last=0):\n",
    "    return sp.Matrix([[0],[0],[last]]) \n",
    "ω = [zerov(),zerov(),zerov(),zerov()]\n",
    "v = [zerov(),zerov(),zerov(),zerov()]\n",
    "\n",
    "θs = sp.symbols('θs1:%d'%(N_deg+1))"
   ]
  },
  {
   "cell_type": "code",
   "execution_count": 7,
   "metadata": {},
   "outputs": [],
   "source": [
    "p = [zerov(),sp.Matrix([[sp.symbols('L1')],[0],[0]]),sp.Matrix([[sp.symbols('L2')],[0],[0]])]"
   ]
  },
  {
   "cell_type": "code",
   "execution_count": 8,
   "metadata": {},
   "outputs": [],
   "source": [
    "for i in range(3):\n",
    "    ω[i+1] = iRm[i]*ω[i] + zerov(θs[i])\n",
    "    v[i+1] = iRm[i]*(v[i] + ω[i].cross(p[i]))"
   ]
  },
  {
   "cell_type": "code",
   "execution_count": 13,
   "metadata": {},
   "outputs": [
    {
     "data": {
      "image/png": "[encoded data removed]",
      "text/latex": [
       "$$\\left[\\begin{matrix}- (L_{1} θs1 \\sin{\\left (θ1 \\right )} + L_{2} θs1 \\sin{\\left (θ1 + θ2 \\right )} + L_{2} θs2 \\sin{\\left (θ1 + θ2 \\right )})\\\\L_{1} θs1 \\cos{\\left (θ1 \\right )} + L_{2} θs1 \\cos{\\left (θ1 + θ2 \\right )} + L_{2} θs2 \\cos{\\left (θ1 + θ2 \\right )}\\\\0\\end{matrix}\\right]$$"
      ],
      "text/plain": [
       "⎡-(L₁⋅θs1⋅sin(θ1) + L₂⋅θs1⋅sin(θ1 + θ2) + L₂⋅θs2⋅sin(θ1 + θ2))⎤\n",
       "⎢                                                             ⎥\n",
       "⎢ L₁⋅θs1⋅cos(θ1) + L₂⋅θs1⋅cos(θ1 + θ2) + L₂⋅θs2⋅cos(θ1 + θ2)  ⎥\n",
       "⎢                                                             ⎥\n",
       "⎣                              0                              ⎦"
      ]
     },
     "execution_count": 13,
     "metadata": {},
     "output_type": "execute_result"
    }
   ],
   "source": [
    "sp.trigsimp(Rm[0]*Rm[1]*Rm[2]*v[3])"
   ]
  },
  {
   "cell_type": "code",
   "execution_count": 41,
   "metadata": {},
   "outputs": [],
   "source": [
    "AA = sp.trigsimp(T(a[0], α[0], d[0], θ[0])*T(a[1], α[1], d[1], θ[1]))"
   ]
  },
  {
   "cell_type": "code",
   "execution_count": null,
   "metadata": {},
   "outputs": [],
   "source": []
  },
  {
   "cell_type": "code",
   "execution_count": 37,
   "metadata": {},
   "outputs": [],
   "source": [
    "a2 = 340\n",
    "a3 = 25\n",
    "d3 = 90\n",
    "d4 = 260\n",
    "def rad(a):\n",
    "    return np.pi/180*a\n",
    "θ_num = [rad(45),rad(60),rad(75),0,0]\n",
    "α_num = [0,-np.pi/2,0,-np.pi/2,np.pi/2,-np.pi/2]\n",
    "a_num = [0,0,a2,a3,0,0]\n",
    "d_num = [0,0,d3,d4,0,0]"
   ]
  },
  {
   "cell_type": "code",
   "execution_count": 38,
   "metadata": {},
   "outputs": [],
   "source": [
    "Tf = T(0,0,0,0)\n",
    "for it in zip(a_num,α_num,d_num,θ_num):\n",
    "    Tf = Tf*T(*it)"
   ]
  },
  {
   "cell_type": "code",
   "execution_count": null,
   "metadata": {},
   "outputs": [],
   "source": []
  },
  {
   "cell_type": "code",
   "execution_count": null,
   "metadata": {},
   "outputs": [],
   "source": []
  },
  {
   "cell_type": "code",
   "execution_count": 39,
   "metadata": {},
   "outputs": [
    {
     "data": {
      "text/plain": [
       "Matrix([\n",
       "[              -0.5,              -0.5,   -0.707106781186547, -85.9314575050762],\n",
       "[              -0.5,              -0.5,    0.707106781186548,  41.3477631085024],\n",
       "[-0.707106781186548, 0.707106781186547, 6.12323399573677e-17,  -128.27854370787],\n",
       "[                 0,                 0,                    0,                 1]])"
      ]
     },
     "execution_count": 39,
     "metadata": {},
     "output_type": "execute_result"
    }
   ],
   "source": [
    "Tf"
   ]
  },
  {
   "cell_type": "code",
   "execution_count": null,
   "metadata": {},
   "outputs": [],
   "source": []
  },
  {
   "cell_type": "code",
   "execution_count": 1,
   "metadata": {},
   "outputs": [],
   "source": [
    "a = [[7587, 321, 112, 950], [6695, 211, 345, 820], [3788, 308, 450, 750], [8108, 278, 88, 999], [5652, 223, 212, 812], \n",
    "     [677, 355, 90, 901], [5812, 401, 185, 788], [7432,208,208,790]]\n"
   ]
  },
  {
   "cell_type": "code",
   "execution_count": 12,
   "metadata": {},
   "outputs": [
    {
     "name": "stdout",
     "output_type": "stream",
     "text": [
      "0 dominates 5\n",
      "1 dominates 4\n",
      "1 dominates 6\n",
      "7 dominates 6\n"
     ]
    }
   ],
   "source": [
    "import numpy as np\n",
    "z = np.zeros((len(a),len(a)))\n",
    "for i,x in enumerate(a):\n",
    "    for j,y in enumerate(a):\n",
    "        z[i][j] = x[0]>y[0] and x[1]<y[1] and x[2] > y[2] and x[3] > y[3]\n",
    "        if (z[i][j]):\n",
    "            print(\"%d dominates %d\" % (i,j))"
   ]
  },
  {
   "cell_type": "code",
   "execution_count": 11,
   "metadata": {},
   "outputs": [
    {
     "data": {
      "text/plain": [
       "array([[ 0.,  0.,  0.,  0.,  0.,  1.,  0.,  0.],\n",
       "       [ 0.,  0.,  0.,  0.,  1.,  0.,  1.,  0.],\n",
       "       [ 0.,  0.,  0.,  0.,  0.,  0.,  0.,  0.],\n",
       "       [ 0.,  0.,  0.,  0.,  0.,  0.,  0.,  0.],\n",
       "       [ 0.,  0.,  0.,  0.,  0.,  0.,  0.,  0.],\n",
       "       [ 0.,  0.,  0.,  0.,  0.,  0.,  0.,  0.],\n",
       "       [ 0.,  0.,  0.,  0.,  0.,  0.,  0.,  0.],\n",
       "       [ 0.,  0.,  0.,  0.,  0.,  0.,  1.,  0.]])"
      ]
     },
     "execution_count": 11,
     "metadata": {},
     "output_type": "execute_result"
    }
   ],
   "source": [
    "z"
   ]
  },
  {
   "cell_type": "code",
   "execution_count": null,
   "metadata": {},
   "outputs": [],
   "source": []
  }
 ],
 "metadata": {
  "kernelspec": {
   "display_name": "Python 3",
   "language": "python",
   "name": "python3"
  },
  "language_info": {
   "codemirror_mode": {
    "name": "ipython",
    "version": 3
   },
   "file_extension": ".py",
   "mimetype": "text/x-python",
   "name": "python",
   "nbconvert_exporter": "python",
   "pygments_lexer": "ipython3",
   "version": "3.6.1"
  }
 },
 "nbformat": 4,
 "nbformat_minor": 2
}
